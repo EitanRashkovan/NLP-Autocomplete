{
 "cells": [
  {
   "cell_type": "markdown",
   "id": "50302424",
   "metadata": {},
   "source": [
    "Xavier's NLP Auto-Correction attempt"
   ]
  },
  {
   "cell_type": "markdown",
   "id": "eefc7735",
   "metadata": {},
   "source": [
    "Non-word spelling error detection: \n",
    "    use a dictionary, the larger the better. \n",
    "    any word not in the dictionary is an error.\n",
    "    \n",
    "Non-word spelling error correction: \n",
    "    Generate candidates i.e real words that are similar to the error.\n",
    "    Then we can choose which one is best possibly using one of the two following methods:\n",
    "        Highest Noisy Channel Probability model\n",
    "        Shortest weighted edit distance method\n",
    "        \n",
    "Real-word spelling error i.e peace -> piece or there -> their -> they're\n",
    "    for each word(w) we generate a candidate set. we do this for every word in the sentence.\n",
    "    we dont use a dictionary cause the errors are in the dictionary so doesnt help us. \n",
    "        find candidate words with similar pronounciation\n",
    "        find candidate words with similar spelling\n",
    "        include the word(w) in the candidate set itself\n",
    "        \n",
    "How we choose the best one: \n",
    "    Noisy channel probability model\n",
    "    Classifier possibly. "
   ]
  },
  {
   "cell_type": "code",
   "execution_count": null,
   "id": "da9e0e3e",
   "metadata": {},
   "outputs": [],
   "source": []
  }
 ],
 "metadata": {
  "kernelspec": {
   "display_name": "Python 3",
   "language": "python",
   "name": "python3"
  },
  "language_info": {
   "codemirror_mode": {
    "name": "ipython",
    "version": 3
   },
   "file_extension": ".py",
   "mimetype": "text/x-python",
   "name": "python",
   "nbconvert_exporter": "python",
   "pygments_lexer": "ipython3",
   "version": "3.8.8"
  }
 },
 "nbformat": 4,
 "nbformat_minor": 5
}
